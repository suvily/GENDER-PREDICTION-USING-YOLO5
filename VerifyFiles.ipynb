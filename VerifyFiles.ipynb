{
  "cells": [
    {
      "cell_type": "code",
      "execution_count": null,
      "id": "e10a2c8d",
      "metadata": {
        "id": "e10a2c8d"
      },
      "outputs": [],
      "source": [
        "import os"
      ]
    },
    {
      "cell_type": "code",
      "execution_count": null,
      "id": "46644df1",
      "metadata": {
        "id": "46644df1",
        "outputId": "fcf77bd1-49ff-43cf-e021-22eaa8dcf696"
      },
      "outputs": [
        {
          "data": {
            "text/plain": [
              "['classes.txt', 'images', 'labels']"
            ]
          },
          "execution_count": 2,
          "metadata": {},
          "output_type": "execute_result"
        }
      ],
      "source": [
        "os.listdir('data')"
      ]
    },
    {
      "cell_type": "code",
      "execution_count": null,
      "id": "23e36195",
      "metadata": {
        "id": "23e36195"
      },
      "outputs": [],
      "source": [
        "path = r'data\\images\\train'\n"
      ]
    },
    {
      "cell_type": "code",
      "execution_count": null,
      "id": "723f99a5",
      "metadata": {
        "id": "723f99a5"
      },
      "outputs": [],
      "source": [
        "\n",
        "def get_count(path):    \n",
        "    count =0\n",
        "    for i in os.listdir(path):\n",
        "    \n",
        "        count+=1\n",
        "    print(path, count)    "
      ]
    },
    {
      "cell_type": "code",
      "execution_count": null,
      "id": "4ba1991e",
      "metadata": {
        "id": "4ba1991e",
        "outputId": "6b6747ce-210f-4c6e-fd54-f4066e924abb"
      },
      "outputs": [
        {
          "name": "stdout",
          "output_type": "stream",
          "text": [
            "data\\labels\\val 48\n"
          ]
        }
      ],
      "source": [
        "path = r'data\\labels\\val'\n",
        "get_count(path)"
      ]
    },
    {
      "cell_type": "code",
      "execution_count": null,
      "id": "1e363a0b",
      "metadata": {
        "id": "1e363a0b",
        "outputId": "593217ec-be87-4a0b-dad9-d21323ede69a"
      },
      "outputs": [
        {
          "name": "stdout",
          "output_type": "stream",
          "text": [
            "data\\images\\val 48\n"
          ]
        }
      ],
      "source": [
        "path = r'data\\images\\val'\n",
        "get_count(path)\n"
      ]
    },
    {
      "cell_type": "code",
      "execution_count": null,
      "id": "9e701f1d",
      "metadata": {
        "id": "9e701f1d",
        "outputId": "d77c5e1e-ea8a-4251-99ec-f6c655e28633"
      },
      "outputs": [
        {
          "name": "stdout",
          "output_type": "stream",
          "text": [
            "data\\images\\train 443\n"
          ]
        }
      ],
      "source": [
        "path = r'data\\images\\train'\n",
        "get_count(path)\n"
      ]
    },
    {
      "cell_type": "code",
      "execution_count": null,
      "id": "ef35c2ee",
      "metadata": {
        "id": "ef35c2ee",
        "outputId": "ec12cf9e-0f6e-4e03-afc8-6db8ed455d03"
      },
      "outputs": [
        {
          "name": "stdout",
          "output_type": "stream",
          "text": [
            "data\\labels\\train 443\n"
          ]
        }
      ],
      "source": [
        "path = r'data\\labels\\train'\n",
        "get_count(path)"
      ]
    },
    {
      "cell_type": "code",
      "execution_count": null,
      "id": "306dc969",
      "metadata": {
        "id": "306dc969"
      },
      "outputs": [],
      "source": [
        "labels = os.listdir(r'data\\labels\\train')\n",
        "missing = []\n",
        "for i in os.listdir(r'data\\images\\train'):\n",
        "    name = i.split('.')[0]\n",
        "    if  name+'.txt' not in labels:\n",
        "        missing.append(name)\n",
        "        "
      ]
    },
    {
      "cell_type": "code",
      "execution_count": null,
      "id": "05713572",
      "metadata": {
        "id": "05713572",
        "outputId": "95417d1b-84ad-45eb-faf4-fa08c1f42084"
      },
      "outputs": [
        {
          "data": {
            "text/plain": [
              "[]"
            ]
          },
          "execution_count": 9,
          "metadata": {},
          "output_type": "execute_result"
        }
      ],
      "source": [
        "missing"
      ]
    },
    {
      "cell_type": "code",
      "execution_count": null,
      "id": "01c4f054",
      "metadata": {
        "id": "01c4f054"
      },
      "outputs": [],
      "source": [
        "images = os.listdir(r'data\\images\\train')\n",
        "missing = []\n",
        "for i in os.listdir(r'data\\labels\\train'):\n",
        "    name = i.split('.')[0]\n",
        "    if  name+'.jpg' not in images:\n",
        "        if name+'.jpeg' not in images:\n",
        "            missing.append(name)"
      ]
    },
    {
      "cell_type": "code",
      "execution_count": null,
      "id": "7838b749",
      "metadata": {
        "id": "7838b749",
        "outputId": "58e6b722-8a6a-4b26-f612-74f8589fb0bc"
      },
      "outputs": [
        {
          "data": {
            "text/plain": [
              "[]"
            ]
          },
          "execution_count": 11,
          "metadata": {},
          "output_type": "execute_result"
        }
      ],
      "source": [
        "missing"
      ]
    },
    {
      "cell_type": "code",
      "execution_count": null,
      "id": "e439389a",
      "metadata": {
        "id": "e439389a"
      },
      "outputs": [],
      "source": []
    },
    {
      "cell_type": "code",
      "execution_count": null,
      "id": "af096f6d",
      "metadata": {
        "id": "af096f6d"
      },
      "outputs": [],
      "source": []
    }
  ],
  "metadata": {
    "kernelspec": {
      "display_name": "Python 3 (ipykernel)",
      "language": "python",
      "name": "python3"
    },
    "language_info": {
      "codemirror_mode": {
        "name": "ipython",
        "version": 3
      },
      "file_extension": ".py",
      "mimetype": "text/x-python",
      "name": "python",
      "nbconvert_exporter": "python",
      "pygments_lexer": "ipython3",
      "version": "3.9.12"
    },
    "colab": {
      "provenance": []
    }
  },
  "nbformat": 4,
  "nbformat_minor": 5
}